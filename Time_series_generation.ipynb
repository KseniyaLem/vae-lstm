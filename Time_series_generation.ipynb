{
  "nbformat": 4,
  "nbformat_minor": 0,
  "metadata": {
    "colab": {
      "name": "Time_series_generation.ipynb",
      "provenance": [],
      "collapsed_sections": []
    },
    "kernelspec": {
      "name": "python3",
      "display_name": "Python 3"
    },
    "language_info": {
      "name": "python"
    }
  },
  "cells": [
    {
      "cell_type": "code",
      "metadata": {
        "id": "4rACmhRExpy3"
      },
      "source": [
        "import numpy as np\n",
        "import pandas as pd\n",
        "import matplotlib.pyplot as plt\n",
        "import math\n",
        "import json\n",
        "\n",
        "\n",
        "class TSGenerator:\n",
        "    def __init__(self, TSconfig):\n",
        "        self.number_of_observations = TSconfig[\"number_of_observations\"]\n",
        "\n",
        "    def base_TS(self, TSconfig):\n",
        "        base = TSconfig[\"base\"]\n",
        "        var = TSconfig[\"variance\"]\n",
        "\n",
        "        self.time_series[\"data\"] = self.time_series[\"data\"].apply(lambda obs: obs + np.random.normal(base, var, 1)[0])        \n",
        "\n",
        "    def add_trend(self, TSconfig):\n",
        "        slope = TSconfig[\"slope\"]\n",
        "        self.time_series[\"index\"] = self.time_series.index\n",
        "        self.time_series[\"trend\"] = self.time_series[\"index\"].apply(lambda obs: slope * obs)\n",
        "        self.time_series[\"data\"] = self.time_series[\"data\"] + self.time_series[\"trend\"]\n",
        "\n",
        "        self.time_series.drop(\"trend\", inplace=True, axis=1)\n",
        "        self.time_series.drop(\"index\", inplace=True, axis=1)\n",
        "\n",
        "    def add_season(self, TSconfig):\n",
        "        period = TSconfig[\"period\"]\n",
        "        height = TSconfig[\"height\"]\n",
        "\n",
        "        self.time_series[\"index\"] = self.time_series.index\n",
        "        self.time_series[\"season\"] = self.time_series[\"index\"].apply(lambda obs: height * math.sin(obs * 2 * math.pi / period))\n",
        "        self.time_series[\"data\"] = self.time_series[\"data\"] + self.time_series[\"season\"]\n",
        "\n",
        "        self.time_series.drop(\"season\", inplace=True, axis=1)\n",
        "        self.time_series.drop(\"index\", inplace=True, axis=1)\n",
        "\n",
        "    def add_anomalies(self, TSconfig):\n",
        "\n",
        "        anomalies = TSconfig\n",
        "        for anomaly in anomalies:\n",
        "            position = anomaly[\"position\"]\n",
        "            coeficient = anomaly[\"coef\"]\n",
        "            self.time_series[\"data\"].iloc[position] = (self.time_series[\"data\"].iloc[position] * coeficient)\n",
        "\n",
        "    def add_jumps(self, TSconfig):\n",
        "\n",
        "        breaks = TSconfig\n",
        "        for record in breaks:\n",
        "            start = record[\"from\"]\n",
        "            end = record[\"to\"]\n",
        "            value = record[\"value\"]\n",
        "            self.time_series[\"data\"].iloc[start : end + 1] = (self.time_series[\"data\"] + value)\n",
        "\n",
        "    def add_timestamp(self, TSconfig):\n",
        "        start = TSconfig[\"start\"]\n",
        "        step = TSconfig[\"step\"]\n",
        "\n",
        "        self.time_series[\"index\"] = self.time_series.index\n",
        "        self.time_series[\"timestamp\"] = self.time_series[\"index\"].apply(lambda obs: start + obs * step)\n",
        "\n",
        "        self.time_series.set_index(\"timestamp\", inplace=True)\n",
        "\n",
        "        self.time_series.drop(\"index\", inplace=True, axis=1)\n",
        "\n",
        "    def plot(self):\n",
        "        self.time_series.plot()\n",
        "        plt.show()\n",
        "\n",
        "    def to_csv(self, file_name):\n",
        "        self.time_series.to_csv(file_name, sep=\",\", index=True)\n",
        "        print((\"Time series \" + file_name + \" saved.\"))\n",
        "\n",
        "    def generate(self, TSconfig):\n",
        "\n",
        "        self.time_series = pd.DataFrame({\"data\": np.zeros(self.number_of_observations)})\n",
        "\n",
        "        for key in TSconfig:\n",
        "            if key == \"base_line\":\n",
        "                self.base_TS(TSconfig=TSconfig[key])\n",
        "            elif key == \"trend\":\n",
        "                self.add_trend(TSconfig=TSconfig[key])\n",
        "            elif key == \"season\":\n",
        "                self.add_season(TSconfig=TSconfig[key])\n",
        "            elif key == \"annomalies\":\n",
        "                self.add_anomalies(TSconfig=TSconfig[key])\n",
        "            elif key == \"breaks\":\n",
        "                self.add_jumps(TSconfig=TSconfig[key])\n",
        "            elif key == \"meta\":\n",
        "                pass\n",
        "            elif key == \"timestamps\":\n",
        "                self.add_timestamp(TSconfig=TSconfig[key])\n",
        "            else:\n",
        "                raise ValueError(\"A key \" + key + \" is not defined!\")\n",
        "\n",
        "    def get(self):\n",
        "        return self.time_series\n",
        "\n",
        "    def get_data(self):\n",
        "        _ts = self.time_series.copy()\n",
        "\n",
        "        days = len(_ts.values.flatten())\n",
        "        calendar = pd.date_range(start=\"20000101\", freq=\"B\", periods=days)\n",
        "        time_series = pd.Series(data=_ts.values.flatten(), index=calendar)\n",
        "\n",
        "        return time_series"
      ],
      "execution_count": 1,
      "outputs": []
    },
    {
      "cell_type": "code",
      "metadata": {
        "id": "yF1ptj-cxu5s"
      },
      "source": [
        "config_ts = {\n",
        "      \"meta\": {\n",
        "        \"path\": \"./timeseries/\",\n",
        "        \"time_series_name\": \"11-base-trend-season-anomaly-regular\",\n",
        "        \"number_of_observations\": 1000\n",
        "      },\n",
        "      \"base_line\": {\n",
        "        \"base\": 1000,\n",
        "        \"variance\": 200\n",
        "      },\n",
        "      # \"trend\": {\n",
        "      #   \"slope\": 20\n",
        "      # },\n",
        "      \"season\": {\n",
        "        \"period\": 45,\n",
        "        \"height\": 4.9\n",
        "      },\n",
        "      \"annomalies\": [\n",
        "        {\n",
        "          \"position\": 21,\n",
        "          \"coef\": 2\n",
        "        },\n",
        "        {\n",
        "          \"position\": 250,\n",
        "          \"coef\": 2\n",
        "        },\n",
        "        {\n",
        "          \"position\": 900,\n",
        "          \"coef\": 0.01\n",
        "        },\n",
        "      ],\n",
        "      \"timestamps\": {\n",
        "        \"start\": 0,\n",
        "        \"step\": 10\n",
        "      }, \n",
        "      \"breaks\": [{'from': 37, 'to': 558, 'value': 7}]\n",
        "        }"
      ],
      "execution_count": 2,
      "outputs": []
    },
    {
      "cell_type": "code",
      "metadata": {
        "id": "gKP9d7iwxzei"
      },
      "source": [
        "NUMBER_SERIES = 1\n",
        "NUMBER_DAYS = 1000"
      ],
      "execution_count": 3,
      "outputs": []
    },
    {
      "cell_type": "code",
      "metadata": {
        "id": "nqlmjh46x1Y-"
      },
      "source": [
        "# Generate time series\n",
        "series = []\n",
        "generator = TSGenerator(config_ts[\"meta\"])\n",
        "generator.generate(config_ts)\n",
        "ts = generator.get_data()\n",
        "ts.name = 1\n",
        "series.append(ts)"
      ],
      "execution_count": 4,
      "outputs": []
    },
    {
      "cell_type": "code",
      "metadata": {
        "id": "ZFA5Mi6dx3Xs"
      },
      "source": [
        "time_series = pd.DataFrame(series).T\n",
        "time_series.index.name = \"date\""
      ],
      "execution_count": 5,
      "outputs": []
    },
    {
      "cell_type": "code",
      "metadata": {
        "colab": {
          "base_uri": "https://localhost:8080/",
          "height": 308
        },
        "id": "ry5HrkjJx8Mk",
        "outputId": "800ea416-9b75-4cf1-f399-eaeea16b5bc9"
      },
      "source": [
        "time_series.plot()"
      ],
      "execution_count": 7,
      "outputs": [
        {
          "output_type": "execute_result",
          "data": {
            "text/plain": [
              "<matplotlib.axes._subplots.AxesSubplot at 0x7f22bd56f810>"
            ]
          },
          "metadata": {
            "tags": []
          },
          "execution_count": 7
        },
        {
          "output_type": "display_data",
          "data": {
            "image/png": "[encoded data removed]",
            "text/plain": [
              "<Figure size 432x288 with 1 Axes>"
            ]
          },
          "metadata": {
            "tags": [],
            "needs_background": "light"
          }
        }
      ]
    }
  ]
}